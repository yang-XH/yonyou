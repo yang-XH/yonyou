{
 "cells": [
  {
   "cell_type": "markdown",
   "metadata": {},
   "source": [
    "### 关联规则分析\n",
    "一、数据预处理\n",
    "   1. 按年度进行划分，同一公司同一年度的所有已购产品作为其项集\n",
    "      - 数据共74006条\n",
    "          - START_DATE和END_DATE为0000-00-00的为12071+3678条\n",
    "          - 无法转化为datetime\n",
    "      - START_DATE和END_DATE为空值的有15408条\n",
    "          - NaN为float类型，不是strptime()所需的str类型"
   ]
  },
  {
   "cell_type": "code",
   "execution_count": 275,
   "metadata": {},
   "outputs": [],
   "source": [
    "'''\n",
    "#数据预处理，删除‘自用、试用’订单，删除‘小微’，清洗公司名称\n",
    "data = pd.read_csv('../data/association_rule_data/dwf_cloud_orderdetail_new_with_order_no.csv') # 74006\n",
    "data['CATEGORY_SUB'].unique()\n",
    "data['if'] = data['CATEGORY_SUB'].apply(lambda x: 1 if x in ['其他', '低折扣', '普通', '备货'] else 0)\n",
    "data2 = data[data['if']==1]\n",
    "data2.drop(columns=['if'],inplace=True)\n",
    "cloud_data = ['U8cloud云模式','NC Cloud公有云','NC Cloud软件模式','U8 Cloud软件模式']\n",
    "data2['PROD_LINE'].apply(lambda x: x not in cloud_data)\n",
    "data2 = data2[data2['PROD_LINE'].apply(lambda x: x not in cloud_data)]\n",
    "#import re\n",
    "#pattern = '[a-zA-Z]+.*$'\n",
    "#data.loc[data['CUSTOMER_NAME'].apply(lambda x: False if re.match(pattern,x) else True),:]\n",
    "#data.loc[data['CUSTOMER_NAME'].apply(lambda x: True if re.match(pattern,x) else False),:]['CUSTOMER_NAME'].unique()[:500]\n",
    "CUSTOMER_startswith_numberLetter = [\n",
    "       '0000010090', '000001910', '000001_K535', '000004_P833',\n",
    "       '000_Z582', '00119pro电商通生产', '001_W551', '001正源', '002188inte营销版',\n",
    "       '002_U579', '00333_1', '003正源食品', '00400', '0078wN59的企业', '009_4',\n",
    "       '010瑞之有自用', '01_A647', '01_Q868', '03258', '0376wbJe的企业',\n",
    "       '05454d02的企业', '0574pjTb的企业', '0648avl3的企业', '0705直接购买1',\n",
    "       '0799体验账套', '0802sDYW的企业', '0829-dev-12-2-181', '0904-dev-临时',\n",
    "       '0905Qaxk的企业', '0sH5hAxU的企业', '101新正源', '1040112171', '106补丁包工序_3',\n",
    "       '111091710', '111111111111112', '1111112222211111', '111144444',\n",
    "       '11123421', '111GB', '111_B845', '111_F12', '111_F914',\n",
    "       '112333233', '1126566', '112lq', '113312123', '11KK1', '11_C709',\n",
    "       '11_J847', '11_S927', '11_X75', '1201合并流程不启用序列号', '121213232',\n",
    "       '1213001_2', '121_E557', '1222沙箱回调失败', '1223_5', '12306160806',\n",
    "       '12345652115', '123456航天信息', '123nx', '123_N876', '123_N91',\n",
    "       '123_T359', '123_T457', '123_W652', '1243231', '128142606',\n",
    "       '12_A918', '12啊实打实', '13038664606', '130STDGOLD_N983',\n",
    "       '130台式20200825', '13116', '131279115561FMWJTQA的公司',\n",
    "       '13181662009的企业', '13222971806的企业', '13239314364的企业',\n",
    "       '13285568641_OCzL的企业', '13303722500的企业', '133497kU的企业',\n",
    "       '13388190508的企业', '133chuanc', '13516823409的企业', '1354',\n",
    "       '13551283671的企业', '13608885119的企业', '13662336410_U5T9的企业',\n",
    "       '13689011214的企业', '13691118570的企业', '13698758338',\n",
    "       '13716199578的企业', '13757776530的企业', '13780301024XiB的公司',\n",
    "       '13854688635的企业', '13864875669的企业', '13870637889的企业',\n",
    "       '13932679017', '13956377149的企业', '13972006258的企业', '13单独12但是v',\n",
    "       '1432', '1456789555', '1499410989803d', '15009671010的企业', '15072',\n",
    "       '150916', '150lvlv', '150_3', '15133005901的企业', '1518kjv7的企业',\n",
    "       '15205105986的企业', '15343517874的企业', '15346DiV的企业', '1563345',\n",
    "       '159034289451FMVFDK4的公司', '159779122601FMTSGRV的公司', '1613t5cF的企业',\n",
    "       '1667GSjZ的企业', '17606988872的企业', '17天津公司总账', '18369175727的企业',\n",
    "       '18520647647的企业', '18600253714的企业', '18608772840的企业',\n",
    "       '18612206382的企业', '18622企业1554878967', '18637394632的企业',\n",
    "       '18648940144的企业', '18766738435的企业', '18816239266的企业',\n",
    "       '18997218797的企业', '18天津公司总账', '191204', '1956CoMC的企业', '19年新账套',\n",
    "       '1_G638', '1_J662', '1_K428', '1_M943', '1_O855', '1_U604',\n",
    "       '1_V689', '1义乌市洪达医疗器械有限公司', '200630maj', '2007制度_1', '2008Rcxx的企业',\n",
    "       '20132018_3', '2016年000006账套', '2017年玉吉洗涤有限公司4231', '201807陕西办王欢',\n",
    "       '20181227', '2018年账套_1', '201909天津自贸试验区吉金惠民国际贸易有限公司', '2019108',\n",
    "       '20191128石家庄慷达商贸有限公司', '201912包头市井文汽修有限公司', '2019慧玲养殖基地',\n",
    "       '2019柔洁商贸公司_2', '2019滨海体育公园（新）', '2019研拓', '2019郑州福广玩具商行',\n",
    "       '2019长大电器', '2019阿那亚物业', '2020-10汉邦工具', '20200113', '2020051901',\n",
    "       '2020052601', '2020060501prod', '20200701_1', '202008上海柏政商贸有限公司',\n",
    "       '20200915WZH01', '20200918某某电子', '20200921', '20201027晚上跑题',\n",
    "       '2020年06月', '2020马连升账套', '212212221', '2126L3LT的企业', '220新建',\n",
    "       '221inte-20191231', '22212321321', '2222288889', '23568445qwer',\n",
    "       '2356S1uU的企业', '25914dAx的企业', '266补丁', '27654', '2822包', '2893包',\n",
    "       '2929vI3o的企业', '2_E153', '300058上海折影摄影有限公司', '300099—内蒙古1911起仓库',\n",
    "       '300白城小额贷款', '31510202', '33331_1', '3333311', '3979qBje的企业',\n",
    "       '3988lSnP的企业', '4003xsEs的企业', '4165qfKu的企业', '4302vQOB的企业',\n",
    "       '4444DDDDsb9', '4534uy4r6756788', '4582BC3O的企业', '4738HgJr的企业',\n",
    "       '507看板发布1', '5138pnTn的企业', '520-7', '520sunyingjian',\n",
    "       '5382MsPH的企业', '5669YfqL的企业', '5677P3ua的企业', '58282dDS的企业',\n",
    "       '60009788372_QDi2的企业', '60012215210_x939的企业',\n",
    "       '60012819849_3pIs的企业', '60012868790的企业', '60012891572的企业',\n",
    "       '6139SwYh的企业', '6196kCT5的企业',\n",
    "       '61号补丁新建账套1777带友空间序列号存货调整200429_I446',\n",
    "       '6PL International Logistic (Guangzhou) Limited Company',\n",
    "       '7000011', '700008', '7203kzfe的企业', '7409VAH9的企业', '773073222的公司',\n",
    "       '7896cunjiti', '7967wC8H的企业', '7月11培训', '800001_4', '800007云主机账套',\n",
    "       '813先开通工作圈再升级友空间', '8146F2WI的企业', '8249NSCm的企业', '8385lbCC的企业',\n",
    "       '8751v2fc的企业', '8787987899', '888_E212', '888_U670', '888_Y915',\n",
    "       '895632456', '8998khK3的企业', '9-22', '90014160504', '929欠条',\n",
    "       '9516852', '9536jYHs的企业', '9999999999000', '99999ooooooooooo',\n",
    "       '999da', '9_B997', '9_K636', '？', '？重庆蓝黛动力传动机械股份有限公司'\n",
    "       'A111母婴公司', 'a22231', 'AAbzsss', 'AA_T577', 'aa商贸营销有限公司',\n",
    "       'AQ七夕的工程项目','A_N845',\n",
    "       'A单帐','A母婴公司', 'A母婴公司_7', 'A母婴公司_Q893',\n",
    "       'AIMOLIKJ', 'akf','aserty',\n",
    "       'beibayonghu','BJCYYYYXGS',\n",
    "       'BJCYYYYXGS', 'bjrp',\n",
    "       'c20190101','ce-A6',\n",
    "       'ces2221', 'ceshi111_1', 'ceshi12345tizi', 'ceshi1789', 'ceshi456',\n",
    "       'ceshizixin', 'ceshi_E561','CS1', 'CS1112222', 'cs1199', 'cs123121',\n",
    "       'cs12354202', 'cs26145525', 'CS6768', 'cs_K746',\n",
    "       'CCSE155427902360004249716',\n",
    "       'CCSE155461635260010947334', 'CCSE155464583260007121799',\n",
    "       'CCSE155471505460009953514', 'CCSE158503048060010007054',\n",
    "       'CCSE158587761660009816928', 'CCSE158634959260009753027',\n",
    "       'CCSE158634966960009753027', 'CCSE158643274060004506117',\n",
    "       'CCSE158693154760007647073','CM201030',\n",
    "       'DD2222222222222222', 'dd989',\n",
    "       'demo1115', 'demo_A957', 'denise2016',\n",
    "       'DSF1', 'DSR（银川）_1','F666', 'F6666', 'fhhhhh',\n",
    "       'FSK_1', 'FTD_1',\n",
    "       'G22', 'genius', 'gf111',\n",
    "       'gongzuoquaneeeee', 'gx0000000001',\n",
    "       'GY2019', 'H6-28-7-28',\n",
    "       'HBSS',\n",
    "       'heyishun', 'hgjg_1', 'HHHHHHHHHH',\n",
    "       'HTD',\n",
    "       'isv1228沙箱',\n",
    "       'jialijia', 'jntest1223',\n",
    "       'jntest1224-1', 'jntest1224-2', 'jntest1226回调',\n",
    "       'jtngm', 'LCL6654654654', 'ldhysh001',\n",
    "       'local_stock', 'lyh123', 'lyzw',\n",
    "       'lztt2020', 'M2020', 'MOUMOU',  'm？x？p？r',\n",
    "       'ns好会计8', 'ntbrd',\n",
    "       'nyhtsm', 'pezydn',\n",
    "       'q4ubh01s8l', 'qdkx', 'RITE auto', 'rtyuio',\n",
    "       's6mxk7fd9i', 'Sa789',\n",
    "       'SADSADASDDAS', 'sasa0000001',\n",
    "       'shenme', 'sh贸易', 'smbjpb', 'SXXR', 'T+cloud普及版备货3', 'T+财务体验',\n",
    "       't-123', 'T3涵坤妙丰', 'taikennglebataikennglebataiken',\n",
    "       'tcloud018的企业', 'TC新商贸行业流程题_1',\n",
    "       'TC新生产谢清海',\n",
    "       'TEST111111111111111111111111111111', 'test1223',\n",
    "       'test12323111111', 'Test150037', 'Test150042_1', 'test171',\n",
    "       'Test20200326', 'test20200418', 'test222111', 'test27133743',\n",
    "       'test2_Q863', 'TEST88888888', 'test999999', 'testlingshou123',\n",
    "       'test_C52', 'test_P122', 'Test删除固定资产', 'test批发零售', 'test风火',\n",
    "       'TEST食品', 'TEXTzhj',  'too服装鞋帽',\n",
    "       'T软件', 'uisd91bypw',\n",
    "       'vc_内测账套_合并流程销售发票立账', 'vulcan', 'VWZDHUtE的企业', 'wbb',\n",
    "       'wdw跑店管理2', \n",
    "       'ww_I536',  'wzx18233736', 'XAHMXX的公司',\n",
    "       'XAN-N', 'XBS', 'XINDAYIN', 'xinhuiqu', 'xintaihuanbao', 'xq7',\n",
    "       'ycimedia_1', 'YDYK', 'yhb的公司', 'ylcs',\n",
    "       'yo23233', \n",
    "       'zhiren-T1', 'zjcyrj的公司', 'Z品汇','一个月后删除', '一体化_A665', '一体化_X658','一般会计']\n",
    "CUSTOMER_not_ignore = [\n",
    "       '001正源','003正源食品','1义乌市洪达医疗器械有限公司', '2017年玉吉洗涤有限公司4231',\n",
    "       '201909天津自贸试验区吉金惠民国际贸易有限公司','20191128石家庄慷达商贸有限公司', \n",
    "       '201912包头市井文汽修有限公司', '2019慧玲养殖基地',\n",
    "       '2019柔洁商贸公司_2', '2019滨海体育公园（新）', '2019研拓', '2019郑州福广玩具商行',\n",
    "       '2019长大电器', '2019阿那亚物业', '2020-10汉邦工具','202008上海柏政商贸有限公司',\n",
    "       '300058上海折影摄影有限公司', '300099—内蒙古1911起仓库','？重庆蓝黛动力传动机械股份有限公司',\n",
    "       'Africa Bauxite Mining Company Ltd', 'Aice Group Holdings Pte Ltd',\n",
    "       'Alliance Steel (M) Sdn Bhd',\n",
    "       'Alliance Steel(M) Sdn Bhd.',\n",
    "       'ArkenstoneCollaboration',\n",
    "       'Asia Pacific Aviation  Leasing Ltd 亚太航空租赁集团',\n",
    "       'AsiaPolyurethaneMfgPteLtd', 'A丰华商贸有限',\n",
    "      ]\n",
    "CUSTOMER_ignore = [item for item in CUSTOMER_startswith_numberLetter if item not in CUSTOMER_not_ignore] # if和for的顺序\n",
    "customer_save2 = data2['CUSTOMER_NAME'].apply(lambda x: x not in CUSTOMER_ignore)\n",
    "text2 = data2.loc[customer_save2,:].copy()\n",
    "text2 = text2[text2['PROD_LINE']!='小微']\n",
    "text3 = text2.drop(columns = ['if'])\n",
    "text3.to_csv('../data/association_rule_data/dwf_processed_with_order_no.csv', index=False)\n",
    "'''\n"
   ]
  },
  {
   "cell_type": "code",
   "execution_count": null,
   "metadata": {},
   "outputs": [],
   "source": [
    "'''\n",
    "# 0000-00-00无法转化为datetime，共15799条\n",
    "data[(data['END_DATE'] == '0000-00-00') | (data['START_DATE'] == '0000-00-00')] # 起始或截止日期为0000-00-00，在Series中用 | 表示或，or需要truth value在Series中意义是模糊的\n",
    "data[data['START_DATE'].apply(lambda x:type(x)) == float]  # strptime() argument 1 must be str, not float\n",
    "data['START_DATE'] = data['START_DATE'].apply(lambda x: datetime.strptime(x, '%Y-%m-%d'))\n",
    "data['END_DATE'] = data['END_DATE'].apply(lambda x: datetime.strptime(x, '%Y-%m-%d'))\n",
    "data['time_delta'] = data['END_DATE'] - data['START_DATE']\n",
    "data['time_delta_days'] = data['time_delta'].apply(lambda x: x.days)\n",
    "a = data['time_delta_days'].unique()\n",
    "a.sort()\n",
    "data_1 = data[(data['START_DATE'] != '0000-00-00') & (data['END_DATE'] != '0000-00-00')].copy()\n",
    "data_1.dropna(inplace=True)\n",
    "'''"
   ]
  },
  {
   "cell_type": "code",
   "execution_count": 137,
   "metadata": {},
   "outputs": [
    {
     "data": {
      "text/plain": [
       "(array([1.195e+03, 1.200e+01, 6.000e+00, 0.000e+00, 0.000e+00, 0.000e+00,\n",
       "        0.000e+00, 1.000e+00, 1.000e+00, 1.000e+00]),\n",
       " array([1.0000e+00, 2.1740e+02, 4.3380e+02, 6.5020e+02, 8.6660e+02,\n",
       "        1.0830e+03, 1.2994e+03, 1.5158e+03, 1.7322e+03, 1.9486e+03,\n",
       "        2.1650e+03]),\n",
       " <BarContainer object of 10 artists>)"
      ]
     },
     "execution_count": 137,
     "metadata": {},
     "output_type": "execute_result"
    },
    {
     "data": {
      "image/png": "[encoded data removed]",
      "text/plain": [
       "<Figure size 432x288 with 1 Axes>"
      ]
     },
     "metadata": {
      "needs_background": "light"
     },
     "output_type": "display_data"
    }
   ],
   "source": [
    "'''\n",
    "#各公司所购买产品线数量 直方图展示\n",
    "import matplotlib.pyplot as plt\n",
    "import matplotlib\n",
    "matplotlib.rcParams['font.sans-serif']=['SimHei']   # 用黑体显示中文\n",
    "matplotlib.rcParams['axes.unicode_minus']=False     # 正常显示负号\n",
    "text.groupby('CUSTOMER_NAME').agg({'PROD_NAME':'count'})#.sort_values(by='PROD_NAME')\n",
    "#d = text.groupby('CUSTOMER_NAME').agg({'PROD_NAME':'count'}).values\n",
    "d = text.groupby('PROD_NAME').agg({'CUSTOMER_NAME':'count'}).values\n",
    "plt.hist(d)\n",
    "'''"
   ]
  },
  {
   "cell_type": "code",
   "execution_count": 208,
   "metadata": {},
   "outputs": [
    {
     "data": {
      "image/png": "[encoded data removed]",
      "text/plain": [
       "<Figure size 432x288 with 1 Axes>"
      ]
     },
     "metadata": {},
     "output_type": "display_data"
    }
   ],
   "source": [
    "'''\n",
    "# 同一列进行agg导致multiindex的问题，agg的字典参数中，再利用字典形式\n",
    "a = data.groupby('PROD_NAME').agg({'CUSTOMER_NAME':['nunique','count']})\n",
    "#a.columns = a.columns.droplevel(0) #删除顶层索引\n",
    "a[:10]\n",
    "a.sort_values(by='count',ascending=False,inplace=True)\n",
    "a[8:]['nunique'].sum()\n",
    "b = a[:8].copy()\n",
    "c = pd.Series(a[8:].sum(),index=['其他'])\n",
    "b = b.append(c)\n",
    "labels = b.index.values[::-1]#'Frogs', 'Hogs', 'Dogs', 'Logs'\n",
    "sizes = b.values[::-1]#[15, 30, 45, 10]\n",
    "explode = [0,0.1,0,0,0,0,0,0,0]#(0, 0.1, 0, 0)  # only \"explode\" the 2nd slice (i.e. 'Hogs')\n",
    "\n",
    "fig1, ax1 = plt.subplots()\n",
    "ax1.pie(sizes, explode=explode, labels=labels, autopct='%1.1f%%',\n",
    "        shadow=True, startangle=90)\n",
    "ax1.axis('equal')  # Equal aspect ratio ensures that pie is drawn as a circle.\n",
    "\n",
    "plt.savefig('Demo_official1.jpg', dpi=300)\n",
    "plt.show()\n",
    "'''"
   ]
  },
  {
   "cell_type": "markdown",
   "metadata": {},
   "source": [
    "### 数据分析"
   ]
  },
  {
   "cell_type": "code",
   "execution_count": 15,
   "metadata": {},
   "outputs": [],
   "source": [
    "import pandas as pd\n",
    "import numpy as np\n",
    "from datetime import datetime"
   ]
  },
  {
   "cell_type": "code",
   "execution_count": 285,
   "metadata": {},
   "outputs": [],
   "source": [
    "data = pd.read_csv('../data/association_rule_data/dwf_processed_with_order_no.csv')# 46909？"
   ]
  },
  {
   "cell_type": "code",
   "execution_count": 286,
   "metadata": {},
   "outputs": [
    {
     "data": {
      "text/html": [
       "<div>\n",
       "<style scoped>\n",
       "    .dataframe tbody tr th:only-of-type {\n",
       "        vertical-align: middle;\n",
       "    }\n",
       "\n",
       "    .dataframe tbody tr th {\n",
       "        vertical-align: top;\n",
       "    }\n",
       "\n",
       "    .dataframe thead th {\n",
       "        text-align: right;\n",
       "    }\n",
       "</style>\n",
       "<table border=\"1\" class=\"dataframe\">\n",
       "  <thead>\n",
       "    <tr style=\"text-align: right;\">\n",
       "      <th></th>\n",
       "      <th>CUSTOMER_NAME</th>\n",
       "      <th>CATEGORY_SUB</th>\n",
       "      <th>CLOUD_TYPE</th>\n",
       "      <th>PROD_LINE</th>\n",
       "      <th>PROD_NAME</th>\n",
       "      <th>ORDER_NO</th>\n",
       "      <th>TENANT_ID</th>\n",
       "      <th>SELLMONEY</th>\n",
       "      <th>DISTRICT_NAME</th>\n",
       "      <th>PAY_DATE</th>\n",
       "      <th>ORG_NAME</th>\n",
       "      <th>SALE_ORG</th>\n",
       "      <th>ACTIVE_STATUS</th>\n",
       "      <th>DISTRICT_NAME.1</th>\n",
       "      <th>if</th>\n",
       "    </tr>\n",
       "  </thead>\n",
       "  <tbody>\n",
       "    <tr>\n",
       "      <th>0</th>\n",
       "      <td>山东神驰化工集团有限公司</td>\n",
       "      <td>低折扣</td>\n",
       "      <td>公有云</td>\n",
       "      <td>NC移动应用</td>\n",
       "      <td>NCV6移动租赁-实施服务费</td>\n",
       "      <td>XK020878</td>\n",
       "      <td>NaN</td>\n",
       "      <td>300000.0</td>\n",
       "      <td>山东区</td>\n",
       "      <td>2019-09-19</td>\n",
       "      <td>潍坊分公司</td>\n",
       "      <td>潍坊分公司</td>\n",
       "      <td>N</td>\n",
       "      <td>山东区</td>\n",
       "      <td>1</td>\n",
       "    </tr>\n",
       "    <tr>\n",
       "      <th>1</th>\n",
       "      <td>山东神驰化工集团有限公司</td>\n",
       "      <td>低折扣</td>\n",
       "      <td>公有云</td>\n",
       "      <td>NC移动应用</td>\n",
       "      <td>V6公共应用-移动审批</td>\n",
       "      <td>XK020878</td>\n",
       "      <td>NaN</td>\n",
       "      <td>7200.0</td>\n",
       "      <td>山东区</td>\n",
       "      <td>2019-09-19</td>\n",
       "      <td>潍坊分公司</td>\n",
       "      <td>潍坊分公司</td>\n",
       "      <td>Y</td>\n",
       "      <td>山东区</td>\n",
       "      <td>1</td>\n",
       "    </tr>\n",
       "    <tr>\n",
       "      <th>2</th>\n",
       "      <td>山东神驰化工集团有限公司</td>\n",
       "      <td>低折扣</td>\n",
       "      <td>公有云</td>\n",
       "      <td>NC移动应用</td>\n",
       "      <td>V6公共应用-移动审批</td>\n",
       "      <td>XK050677</td>\n",
       "      <td>gd8vz4yu</td>\n",
       "      <td>4249.0</td>\n",
       "      <td>山东区</td>\n",
       "      <td>2020-10-13</td>\n",
       "      <td>潍坊分公司</td>\n",
       "      <td>潍坊分公司</td>\n",
       "      <td>Y</td>\n",
       "      <td>山东区</td>\n",
       "      <td>1</td>\n",
       "    </tr>\n",
       "    <tr>\n",
       "      <th>3</th>\n",
       "      <td>山东神驰化工集团有限公司</td>\n",
       "      <td>低折扣</td>\n",
       "      <td>公有云</td>\n",
       "      <td>NC移动应用</td>\n",
       "      <td>V6移动应用服务器</td>\n",
       "      <td>XK050677</td>\n",
       "      <td>gd8vz4yu</td>\n",
       "      <td>2951.0</td>\n",
       "      <td>山东区</td>\n",
       "      <td>2020-10-13</td>\n",
       "      <td>潍坊分公司</td>\n",
       "      <td>潍坊分公司</td>\n",
       "      <td>Y</td>\n",
       "      <td>山东区</td>\n",
       "      <td>1</td>\n",
       "    </tr>\n",
       "    <tr>\n",
       "      <th>4</th>\n",
       "      <td>山东神驰化工集团有限公司</td>\n",
       "      <td>低折扣</td>\n",
       "      <td>公有云</td>\n",
       "      <td>友云采</td>\n",
       "      <td>友云采-供应商关系管理 SRM-供应商管理</td>\n",
       "      <td>XK020876</td>\n",
       "      <td>r0uzhyb7</td>\n",
       "      <td>62484.0</td>\n",
       "      <td>山东区</td>\n",
       "      <td>2019-09-19</td>\n",
       "      <td>潍坊分公司</td>\n",
       "      <td>潍坊分公司</td>\n",
       "      <td>Y</td>\n",
       "      <td>山东区</td>\n",
       "      <td>1</td>\n",
       "    </tr>\n",
       "    <tr>\n",
       "      <th>...</th>\n",
       "      <td>...</td>\n",
       "      <td>...</td>\n",
       "      <td>...</td>\n",
       "      <td>...</td>\n",
       "      <td>...</td>\n",
       "      <td>...</td>\n",
       "      <td>...</td>\n",
       "      <td>...</td>\n",
       "      <td>...</td>\n",
       "      <td>...</td>\n",
       "      <td>...</td>\n",
       "      <td>...</td>\n",
       "      <td>...</td>\n",
       "      <td>...</td>\n",
       "      <td>...</td>\n",
       "    </tr>\n",
       "    <tr>\n",
       "      <th>30251</th>\n",
       "      <td>龙建路桥股份有限公司</td>\n",
       "      <td>低折扣</td>\n",
       "      <td>公有云</td>\n",
       "      <td>友空间</td>\n",
       "      <td>友空间-公文管理</td>\n",
       "      <td>XK024961</td>\n",
       "      <td>kytq233a</td>\n",
       "      <td>2000.0</td>\n",
       "      <td>东北区</td>\n",
       "      <td>2019-12-02</td>\n",
       "      <td>黑龙江分公司</td>\n",
       "      <td>黑龙江分公司</td>\n",
       "      <td>Y</td>\n",
       "      <td>东北区</td>\n",
       "      <td>1</td>\n",
       "    </tr>\n",
       "    <tr>\n",
       "      <th>30252</th>\n",
       "      <td>龙蟒佰利联集团股份有限公司</td>\n",
       "      <td>低折扣</td>\n",
       "      <td>公有云</td>\n",
       "      <td>友云音</td>\n",
       "      <td>友云音</td>\n",
       "      <td>XK013293</td>\n",
       "      <td>qlWjSBzqVN6444041762</td>\n",
       "      <td>20000.0</td>\n",
       "      <td>西北区</td>\n",
       "      <td>2019-07-09</td>\n",
       "      <td>河南分公司</td>\n",
       "      <td>河南分公司</td>\n",
       "      <td>Y</td>\n",
       "      <td>西北区</td>\n",
       "      <td>1</td>\n",
       "    </tr>\n",
       "    <tr>\n",
       "      <th>30253</th>\n",
       "      <td>龙阔达(北京)展览展示有限公司</td>\n",
       "      <td>普通</td>\n",
       "      <td>公有云</td>\n",
       "      <td>电子发票</td>\n",
       "      <td>电子发票-开票运营服务</td>\n",
       "      <td>XK043408</td>\n",
       "      <td>NaN</td>\n",
       "      <td>0.0</td>\n",
       "      <td>北京区</td>\n",
       "      <td>2020-06-16</td>\n",
       "      <td>北京分公司</td>\n",
       "      <td>北京方圆和信息技术有限公司</td>\n",
       "      <td>N</td>\n",
       "      <td>北京区</td>\n",
       "      <td>1</td>\n",
       "    </tr>\n",
       "    <tr>\n",
       "      <th>30254</th>\n",
       "      <td>？重庆蓝黛动力传动机械股份有限公司</td>\n",
       "      <td>低折扣</td>\n",
       "      <td>公有云</td>\n",
       "      <td>U8移动应用</td>\n",
       "      <td>U8移动应用-移动审批</td>\n",
       "      <td>XK010701</td>\n",
       "      <td>242316</td>\n",
       "      <td>960.0</td>\n",
       "      <td>西南区</td>\n",
       "      <td>2019-05-16</td>\n",
       "      <td>重庆分公司</td>\n",
       "      <td>重庆友捷科技有限公司</td>\n",
       "      <td>Y</td>\n",
       "      <td>西南区</td>\n",
       "      <td>1</td>\n",
       "    </tr>\n",
       "    <tr>\n",
       "      <th>30255</th>\n",
       "      <td>？重庆蓝黛动力传动机械股份有限公司</td>\n",
       "      <td>普通</td>\n",
       "      <td>公有云</td>\n",
       "      <td>U8移动应用</td>\n",
       "      <td>U8移动应用-移动审批</td>\n",
       "      <td>XK034588</td>\n",
       "      <td>242316</td>\n",
       "      <td>960.0</td>\n",
       "      <td>西南区</td>\n",
       "      <td>2020-05-29</td>\n",
       "      <td>重庆分公司</td>\n",
       "      <td>重庆友捷科技有限公司</td>\n",
       "      <td>Y</td>\n",
       "      <td>西南区</td>\n",
       "      <td>1</td>\n",
       "    </tr>\n",
       "  </tbody>\n",
       "</table>\n",
       "<p>30256 rows × 15 columns</p>\n",
       "</div>"
      ],
      "text/plain": [
       "           CUSTOMER_NAME CATEGORY_SUB CLOUD_TYPE PROD_LINE  \\\n",
       "0         山东神驰化工集团有限公司            低折扣        公有云    NC移动应用   \n",
       "1         山东神驰化工集团有限公司            低折扣        公有云    NC移动应用   \n",
       "2         山东神驰化工集团有限公司            低折扣        公有云    NC移动应用   \n",
       "3         山东神驰化工集团有限公司            低折扣        公有云    NC移动应用   \n",
       "4         山东神驰化工集团有限公司            低折扣        公有云       友云采   \n",
       "...                  ...          ...        ...       ...   \n",
       "30251         龙建路桥股份有限公司          低折扣        公有云       友空间   \n",
       "30252      龙蟒佰利联集团股份有限公司          低折扣        公有云       友云音   \n",
       "30253    龙阔达(北京)展览展示有限公司           普通        公有云      电子发票   \n",
       "30254  ？重庆蓝黛动力传动机械股份有限公司          低折扣        公有云    U8移动应用   \n",
       "30255  ？重庆蓝黛动力传动机械股份有限公司           普通        公有云    U8移动应用   \n",
       "\n",
       "                   PROD_NAME  ORDER_NO             TENANT_ID  SELLMONEY  \\\n",
       "0             NCV6移动租赁-实施服务费  XK020878                   NaN   300000.0   \n",
       "1                V6公共应用-移动审批  XK020878                   NaN     7200.0   \n",
       "2                V6公共应用-移动审批  XK050677              gd8vz4yu     4249.0   \n",
       "3                  V6移动应用服务器  XK050677              gd8vz4yu     2951.0   \n",
       "4      友云采-供应商关系管理 SRM-供应商管理  XK020876              r0uzhyb7    62484.0   \n",
       "...                      ...       ...                   ...        ...   \n",
       "30251               友空间-公文管理  XK024961              kytq233a     2000.0   \n",
       "30252                    友云音  XK013293  qlWjSBzqVN6444041762    20000.0   \n",
       "30253            电子发票-开票运营服务  XK043408                   NaN        0.0   \n",
       "30254            U8移动应用-移动审批  XK010701                242316      960.0   \n",
       "30255            U8移动应用-移动审批  XK034588                242316      960.0   \n",
       "\n",
       "      DISTRICT_NAME    PAY_DATE ORG_NAME       SALE_ORG ACTIVE_STATUS  \\\n",
       "0               山东区  2019-09-19    潍坊分公司          潍坊分公司             N   \n",
       "1               山东区  2019-09-19    潍坊分公司          潍坊分公司             Y   \n",
       "2               山东区  2020-10-13    潍坊分公司          潍坊分公司             Y   \n",
       "3               山东区  2020-10-13    潍坊分公司          潍坊分公司             Y   \n",
       "4               山东区  2019-09-19    潍坊分公司          潍坊分公司             Y   \n",
       "...             ...         ...      ...            ...           ...   \n",
       "30251           东北区  2019-12-02   黑龙江分公司         黑龙江分公司             Y   \n",
       "30252           西北区  2019-07-09    河南分公司          河南分公司             Y   \n",
       "30253           北京区  2020-06-16    北京分公司  北京方圆和信息技术有限公司             N   \n",
       "30254           西南区  2019-05-16    重庆分公司     重庆友捷科技有限公司             Y   \n",
       "30255           西南区  2020-05-29    重庆分公司     重庆友捷科技有限公司             Y   \n",
       "\n",
       "      DISTRICT_NAME.1  if  \n",
       "0                 山东区   1  \n",
       "1                 山东区   1  \n",
       "2                 山东区   1  \n",
       "3                 山东区   1  \n",
       "4                 山东区   1  \n",
       "...               ...  ..  \n",
       "30251             东北区   1  \n",
       "30252             西北区   1  \n",
       "30253             北京区   1  \n",
       "30254             西南区   1  \n",
       "30255             西南区   1  \n",
       "\n",
       "[30256 rows x 15 columns]"
      ]
     },
     "execution_count": 286,
     "metadata": {},
     "output_type": "execute_result"
    }
   ],
   "source": [
    "data"
   ]
  },
  {
   "cell_type": "code",
   "execution_count": 307,
   "metadata": {},
   "outputs": [],
   "source": [
    "customer_num = len(data['CUSTOMER_NAME'].unique())#8453\n",
    "order_num = len(data['ORDER_NO'].unique()) #订单数量 13971\n",
    "prod_line_num = len(data['PROD_LINE'].unique())#86\n",
    "prod_name_num = len(data['PROD_NAME'].unique())#1216"
   ]
  },
  {
   "cell_type": "code",
   "execution_count": 368,
   "metadata": {},
   "outputs": [],
   "source": [
    "# 基础数据分析\n",
    "basic_analysis = pd.DataFrame({'数量':{'公司':customer_num,'订单':order_num,'产品线':prod_line_num,'产品模块':prod_name_num}})\n",
    "basic_analysis.reset_index(inplace=True)"
   ]
  },
  {
   "cell_type": "code",
   "execution_count": 370,
   "metadata": {},
   "outputs": [],
   "source": [
    "# 产品线分析\n",
    "prod_line_analysis = data.groupby('PROD_LINE').agg({'ORDER_NO':'nunique','CUSTOMER_NAME':'nunique','PROD_NAME':'nunique'}).sort_values(by='ORDER_NO',ascending=False)# 订单数（订单去重）\n",
    "prod_line_analysis.reset_index(inplace=True)\n",
    "prod_line_analysis.columns=['INDEX_PROD_LINE','ORDER NUM','CUSTOMER NUM','PROD MODULE NUM']"
   ]
  },
  {
   "cell_type": "code",
   "execution_count": 372,
   "metadata": {},
   "outputs": [],
   "source": [
    "# 产品模块分析\n",
    "prod_name_analysis = data.groupby('PROD_NAME').agg({'ORDER_NO':'nunique','CUSTOMER_NAME':'nunique'}).sort_values(by='ORDER_NO',ascending=False)# 订单数（订单去重）\n",
    "prod_name_analysis.reset_index(inplace=True)\n",
    "prod_name_analysis.columns=['INDEX_PROD_NAME','ORDER NUM','CUSTOMER NUM']"
   ]
  },
  {
   "cell_type": "code",
   "execution_count": 405,
   "metadata": {},
   "outputs": [],
   "source": [
    "# 公司分析\n",
    "# multindex用tuple表示各层索引\n",
    "customer_analysis = data.groupby('CUSTOMER_NAME').agg({'ORDER_NO':'nunique','PROD_LINE':['nunique','unique'],'PROD_NAME':'nunique'}).sort_values(by=('PROD_LINE','nunique'),ascending=False)# 订单数（订单去重）\n",
    "customer_analysis.reset_index(inplace=True)\n",
    "customer_analysis.columns = customer_analysis.columns.droplevel(0) #删除顶层索引\n",
    "customer_analysis.columns=['INDEX_CUSTOMER','ORDER NUM','PROD LINE NUM','PROD LINE BOUGHT','PROD MODULE NUM']\n",
    "customer_analysis[['PROD LINE BOUGHT','PROD MODULE NUM']] = customer_analysis[['PROD MODULE NUM','PROD LINE BOUGHT']] # 公司的所有订单中包含的产品\n",
    "customer_analysis.columns=['INDEX_CUSTOMER','ORDER NUM','PROD LINE NUM','PROD MODULE NUM','PROD LINE BOUGHT']"
   ]
  },
  {
   "cell_type": "code",
   "execution_count": 407,
   "metadata": {},
   "outputs": [],
   "source": [
    "'''\n",
    "# 写入同一个excel的不同sheet中\n",
    "with pd.ExcelWriter('result_data_analysis.xlsx') as writer:\n",
    "    basic_analysis.to_excel(writer, sheet_name='基础数据分析',index=False) \n",
    "    prod_line_analysis.to_excel(writer, sheet_name='产品线分析',index=False)\n",
    "    prod_name_analysis.to_excel(writer, sheet_name='产品模块分析',index=False)\n",
    "    customer_analysis.to_excel(writer, sheet_name='客户分析',index=False)\n",
    "'''"
   ]
  },
  {
   "cell_type": "code",
   "execution_count": 391,
   "metadata": {},
   "outputs": [],
   "source": [
    "'''\n",
    "from itertools import combinations # , permutations\n",
    "# 组合数\n",
    "prod_line_per_cust['prod_line_perm_2'] = prod_line_per_cust['PROD_LINE'].apply(lambda x:[i for i in combinations(x, 2)])\n",
    "'''"
   ]
  },
  {
   "cell_type": "markdown",
   "metadata": {},
   "source": [
    "### Apriori算法"
   ]
  },
  {
   "cell_type": "markdown",
   "metadata": {},
   "source": [
    "#### 产品模块分析 product name"
   ]
  },
  {
   "cell_type": "code",
   "execution_count": 408,
   "metadata": {},
   "outputs": [],
   "source": [
    "import pandas as pd\n",
    "from mlxtend.preprocessing import TransactionEncoder\n",
    "from mlxtend.frequent_patterns import apriori,association_rules\n",
    "#from mlxtend.frequent_patterns import association_rules\n",
    "\n",
    "\n",
    "text = data.copy()\n",
    "module = text['PROD_NAME'].unique()\n",
    "module\n",
    "\n",
    "#text = test[test['MODULENAME'].isin(['成本管理'])]\n",
    "\n",
    "#设定字典\n",
    "module_dict = {}\n",
    "for i in text.index:\n",
    "    if text.loc[i,'CUSTOMER_NAME'] not in module_dict.keys():\n",
    "        module_dict[text.loc[i,'CUSTOMER_NAME']]=[text.loc[i,'PROD_NAME']]\n",
    "    else:\n",
    "        if text.loc[i,'PROD_NAME'] not in module_dict[text.loc[i,'CUSTOMER_NAME']]:\n",
    "            module_dict[text.loc[i,'CUSTOMER_NAME']].append(text.loc[i,'PROD_NAME'])\n",
    "\n",
    "data1 = []\n",
    "for values in module_dict.values():\n",
    "    data1.append(values)\n",
    "\n",
    "#设置数据集\n",
    "te = TransactionEncoder()\n",
    "#进行 one-hot 编码\n",
    "te_ary = te.fit(data1).transform(data1)\n",
    "df = pd.DataFrame(te_ary, columns=te.columns_)"
   ]
  },
  {
   "cell_type": "code",
   "execution_count": 411,
   "metadata": {},
   "outputs": [
    {
     "data": {
      "text/plain": [
       "8453"
      ]
     },
     "execution_count": 411,
     "metadata": {},
     "output_type": "execute_result"
    }
   ],
   "source": [
    "len(data1)"
   ]
  },
  {
   "cell_type": "code",
   "execution_count": 412,
   "metadata": {},
   "outputs": [
    {
     "data": {
      "text/plain": [
       "覆盖率    0.441382\n",
       "dtype: float64"
      ]
     },
     "execution_count": 412,
     "metadata": {},
     "output_type": "execute_result"
    }
   ],
   "source": [
    "#利用 Apriori 找出频繁项集\n",
    "freq = apriori(df, min_support=0.02, use_colnames=True)\n",
    "#降序输出支持度\n",
    "freq.sort_values(by = 'support',ascending = False, inplace=True)\n",
    "#计算置信度\n",
    "#result = association_rules(freq, metric=\"confidence\", min_threshold=0.1)\n",
    "#result.sort_values(by='confidence',ascending=False,axis=1)\n",
    "\n",
    "#结果验证\n",
    "box = pd.DataFrame(freq)\n",
    "box_list = box['itemsets'].tolist()\n",
    "\n",
    "\n",
    "mod_list = list(map(frozenset,data1))\n",
    "    \n",
    "count_dict={}\n",
    "for i in range(0,len(box_list)):\n",
    "    item = box_list[i]\n",
    "    num = mod_list.count(item)\n",
    "    if item not in count_dict.keys():\n",
    "        count_dict[item] = num/len(mod_list)\n",
    "    else:\n",
    "        continue\n",
    "df_sort=pd.DataFrame(sorted(count_dict.items(), key = lambda kv:(kv[1], kv[0]),reverse=True),\n",
    "                     columns=['产品组合','覆盖率'])\n",
    "#降序输出覆盖率\n",
    "df_sort.sort_values('覆盖率',ascending = False)\n",
    "df_sort.sort_values('覆盖率').sum()"
   ]
  },
  {
   "cell_type": "code",
   "execution_count": 435,
   "metadata": {},
   "outputs": [],
   "source": [
    "freq.sort_values(by = 'support',ascending = False, inplace=True)\n",
    "freq['num'] = round(freq['support']*len(data1),0).astype('int')"
   ]
  },
  {
   "cell_type": "code",
   "execution_count": 436,
   "metadata": {},
   "outputs": [],
   "source": [
    "support_and_coverage = pd.merge(freq, df_sort, how='outer', left_on='itemsets', right_on='产品组合')\n",
    "support_and_coverage.drop(columns=['itemsets'], inplace=True)\n",
    "support_and_coverage.rename(columns={'support':'支持度','num':'客户数量'},inplace=True)\n",
    "support_and_coverage = support_and_coverage[['产品组合','支持度','覆盖率','客户数量']]\n",
    "# 将frozenset转换为list，再合并为str，使得excel中的显示易读\n",
    "support_and_coverage['产品组合'] = support_and_coverage['产品组合'].apply(lambda x: '，'.join(list(x)))"
   ]
  },
  {
   "cell_type": "code",
   "execution_count": 437,
   "metadata": {},
   "outputs": [],
   "source": [
    "result = association_rules(freq, metric=\"confidence\", min_threshold=0.01)\n",
    "#result['antecedents'] = result['antecedents'].apply(lambda x: '，'.join(list(x)))\n",
    "#result['consequents'] = result['consequents'].apply(lambda x: '，'.join(list(x)))"
   ]
  },
  {
   "cell_type": "code",
   "execution_count": 438,
   "metadata": {},
   "outputs": [],
   "source": [
    "'''\n",
    "with pd.ExcelWriter('result_without_cloud_apriori_product_name.xlsx') as writer:\n",
    "    support_and_coverage.to_excel(writer, sheet_name='频繁项集的支持度和覆盖率',index=False)\n",
    "    result.to_excel(writer, sheet_name='频繁项集各项间的关联效果',index=False)\n",
    "'''"
   ]
  },
  {
   "cell_type": "code",
   "execution_count": 106,
   "metadata": {},
   "outputs": [
    {
     "data": {
      "application/vnd.jupyter.widget-view+json": {
       "model_id": "f553d7f7fa564df3bd9e6136d789c0b3",
       "version_major": 2,
       "version_minor": 0
      },
      "text/plain": [
       "HBox(children=(HTML(value=''), FloatProgress(value=0.0, max=30.0), HTML(value='')))"
      ]
     },
     "metadata": {},
     "output_type": "display_data"
    },
    {
     "name": "stdout",
     "output_type": "stream",
     "text": [
      "\n"
     ]
    },
    {
     "data": {
      "text/plain": [
       "'apriori_without_cloud_product_name.pdf'"
      ]
     },
     "execution_count": 106,
     "metadata": {},
     "output_type": "execute_result"
    }
   ],
   "source": [
    "'''\n",
    "# 关联结果图形展示\n",
    "from graphviz import Digraph\n",
    "from tqdm.auto import tqdm\n",
    "dot = Digraph()  # 创建有向图\n",
    "graph_data = result[['antecedents', 'consequents', 'lift']]   # 切分画图用的前项、后项和实例数数据\n",
    "for each_data in tqdm(graph_data.values):  # 循环读出每条规则\n",
    "    node1, node2, weight = each_data  # 分割每条数据画图用的前项、后项和实例数\n",
    "    node1 = str(node1).strip('frozenset({})')  # 转化为字符串\n",
    "    node2 = str(node2).strip('frozenset({})')  # 转化为字符串\n",
    "    label = '%s' % weight  # 创建一个标签用于展示实例数\n",
    "    dot.node(node1, node1, shape='record')  # 增加节点（规则中的前项）\n",
    "    dot.edge(node1, node2, label=label, constraint='true')  # 增加有向边\n",
    "dot.render('apriori_without_cloud_product_name', view=True)  # 保存规则为pdf文件\n",
    "'''"
   ]
  },
  {
   "cell_type": "markdown",
   "metadata": {},
   "source": [
    "#### 产品线分析 product line"
   ]
  },
  {
   "cell_type": "code",
   "execution_count": 429,
   "metadata": {},
   "outputs": [],
   "source": [
    "import pandas as pd\n",
    "from mlxtend.preprocessing import TransactionEncoder\n",
    "from mlxtend.frequent_patterns import apriori,association_rules\n",
    "#from mlxtend.frequent_patterns import association_rules\n",
    "\n",
    "\n",
    "text1 = data.copy()\n",
    "module1 = text1['PROD_LINE'].unique()\n",
    "\n",
    "#text = test[test['MODULENAME'].isin(['成本管理'])]\n",
    "\n",
    "#设定字典\n",
    "module_dict1 = {}\n",
    "for i in text1.index:\n",
    "    if text1.loc[i,'CUSTOMER_NAME'] not in module_dict1.keys():\n",
    "        module_dict1[text1.loc[i,'CUSTOMER_NAME']]=[text1.loc[i,'PROD_LINE']]\n",
    "    else:\n",
    "        if text1.loc[i,'PROD_LINE'] not in module_dict1[text1.loc[i,'CUSTOMER_NAME']]:\n",
    "            module_dict1[text1.loc[i,'CUSTOMER_NAME']].append(text1.loc[i,'PROD_LINE'])\n",
    "\n",
    "data11 = []\n",
    "for values in module_dict1.values():\n",
    "    data11.append(values)\n",
    "\n",
    "#设置数据集\n",
    "te1 = TransactionEncoder()\n",
    "#进行 one-hot 编码\n",
    "te_ary1 = te1.fit(data11).transform(data11)\n",
    "df1 = pd.DataFrame(te_ary1, columns=te1.columns_)"
   ]
  },
  {
   "cell_type": "code",
   "execution_count": 430,
   "metadata": {},
   "outputs": [
    {
     "data": {
      "text/plain": [
       "\"\\n#降序输出覆盖率\\ndf_sort1.sort_values('覆盖率',ascending = False)\\ndf_sort1.sort_values('覆盖率').sum()\\n\""
      ]
     },
     "execution_count": 430,
     "metadata": {},
     "output_type": "execute_result"
    }
   ],
   "source": [
    "#利用 Apriori 找出频繁项集\n",
    "freq1 = apriori(df1, min_support=0.01, use_colnames=True)\n",
    "#降序输出支持度\n",
    "freq1.sort_values(by = 'support',ascending = False, inplace=True)\n",
    "\n",
    "#计算置信度\n",
    "result1 = association_rules(freq1, metric=\"confidence\", min_threshold=0.01)\n",
    "#result.sort_values(by='confidence',ascending=False,axis=1)\n",
    "\n",
    "#结果验证\n",
    "box1 = pd.DataFrame(freq1)\n",
    "box_list1 = box1['itemsets'].tolist()\n",
    "\n",
    "\n",
    "mod_list1 = list(map(frozenset,data11))\n",
    "    \n",
    "count_dict1={}\n",
    "for i in range(0,len(box_list1)):\n",
    "    item = box_list1[i]\n",
    "    num = mod_list1.count(item)\n",
    "    if item not in count_dict1.keys():\n",
    "        count_dict1[item] = num/len(mod_list1)\n",
    "    else:\n",
    "        continue\n",
    "df_sort1=pd.DataFrame(sorted(count_dict1.items(), key = lambda kv:(kv[1], kv[0]),reverse=True),\n",
    "                     columns=['产品组合','覆盖率'])\n",
    "'''\n",
    "#降序输出覆盖率\n",
    "df_sort1.sort_values('覆盖率',ascending = False)\n",
    "df_sort1.sort_values('覆盖率').sum()\n",
    "'''"
   ]
  },
  {
   "cell_type": "code",
   "execution_count": 431,
   "metadata": {},
   "outputs": [],
   "source": [
    "freq1['num'] = round(freq1['support']*len(data1),0).astype('int')"
   ]
  },
  {
   "cell_type": "code",
   "execution_count": 439,
   "metadata": {},
   "outputs": [],
   "source": [
    "support_and_coverage1 = pd.merge(freq1, df_sort1, how='outer', left_on='itemsets', right_on='产品组合')\n",
    "support_and_coverage1.drop(columns=['itemsets'], inplace=True)\n",
    "support_and_coverage1.rename(columns={'support':'支持度','num':'客户数量'},inplace=True)\n",
    "support_and_coverage1 = support_and_coverage1[['产品组合','支持度','覆盖率','客户数量']]\n",
    "# 将frozenset转换为list，再合并为str，使得excel中的显示易读\n",
    "support_and_coverage1['产品组合'] = support_and_coverage1['产品组合'].apply(lambda x: '，'.join(list(x)))"
   ]
  },
  {
   "cell_type": "code",
   "execution_count": 440,
   "metadata": {},
   "outputs": [],
   "source": [
    "result1 = association_rules(freq1, metric=\"confidence\", min_threshold=0.0001)\n",
    "#result1['antecedents'] = result1['antecedents'].apply(lambda x: '，'.join(list(x)))\n",
    "#result1['consequents'] = result1['consequents'].apply(lambda x: '，'.join(list(x)))"
   ]
  },
  {
   "cell_type": "code",
   "execution_count": 36,
   "metadata": {},
   "outputs": [
    {
     "data": {
      "text/plain": [
       "'apriori_without_cloud_product_line.pdf'"
      ]
     },
     "execution_count": 36,
     "metadata": {},
     "output_type": "execute_result"
    }
   ],
   "source": [
    "'''\n",
    "# 关联结果图形展示\n",
    "from graphviz import Digraph\n",
    "dot1 = Digraph()  # 创建有向图\n",
    "graph_data1 = result1[['antecedents', 'consequents', 'lift']]   # 切分画图用的前项、后项和实例数数据\n",
    "for each_data in graph_data1.values:  # 循环读出每条规则\n",
    "    node1, node2, weight = each_data  # 分割每条数据画图用的前项、后项和实例数\n",
    "    node1 = str(node1).strip('frozenset({})')  # 转化为字符串\n",
    "    node2 = str(node2).strip('frozenset({})')  # 转化为字符串\n",
    "    label = '%s' % weight  # 创建一个标签用于展示实例数\n",
    "    dot1.node(node1, node1, shape='record')  # 增加节点（规则中的前项）\n",
    "    dot1.edge(node1, node2, label=label, constraint='true')  # 增加有向边\n",
    "dot1.render('apriori_without_cloud_product_line', view=True)  # 保存规则为pdf文件\n",
    "'''"
   ]
  },
  {
   "cell_type": "code",
   "execution_count": 442,
   "metadata": {},
   "outputs": [],
   "source": [
    "'''\n",
    "with pd.ExcelWriter('result_without_cloud_apriori_product_line.xlsx') as writer:\n",
    "    support_and_coverage1.to_excel(writer, sheet_name='频繁项集的支持度和覆盖率',index=False)\n",
    "    result1.to_excel(writer, sheet_name='频繁项集各项间的关联效果',index=False)\n",
    "'''"
   ]
  },
  {
   "cell_type": "code",
   "execution_count": null,
   "metadata": {},
   "outputs": [],
   "source": []
  }
 ],
 "metadata": {
  "kernelspec": {
   "display_name": "Python 3",
   "language": "python",
   "name": "python3"
  },
  "language_info": {
   "codemirror_mode": {
    "name": "ipython",
    "version": 3
   },
   "file_extension": ".py",
   "mimetype": "text/x-python",
   "name": "python",
   "nbconvert_exporter": "python",
   "pygments_lexer": "ipython3",
   "version": "3.6.12"
  }
 },
 "nbformat": 4,
 "nbformat_minor": 4
}
