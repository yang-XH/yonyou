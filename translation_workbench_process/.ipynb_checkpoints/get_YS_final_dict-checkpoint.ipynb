{
 "cells": [
  {
   "cell_type": "code",
   "execution_count": 3,
   "metadata": {},
   "outputs": [],
   "source": [
    "import Ipynb_importer"
   ]
  },
  {
   "cell_type": "code",
   "execution_count": 4,
   "metadata": {},
   "outputs": [
    {
     "name": "stdout",
     "output_type": "stream",
     "text": [
      "importing Jupyter notebook from utils.ipynb\n",
      "importing Jupyter notebook from config_handler.ipynb\n"
     ]
    }
   ],
   "source": [
    "from utils import *\n",
    "import time\n",
    "\n",
    "import xlrd\n",
    "import xlwt\n",
    "from xlutils.copy import copy\n",
    "\n",
    "\n",
    "import os\n",
    "\n",
    "from tqdm.auto import tqdm\n",
    "import logging\n",
    "import yaml\n",
    "import logging.config"
   ]
  },
  {
   "cell_type": "code",
   "execution_count": 5,
   "metadata": {},
   "outputs": [],
   "source": [
    "def get_YS_final_dict(YS_final_path, YS_final_files, YS_dict_txt_path, field_app_to_be_confirmed_txt_path, index0, index1):\n",
    "    # YS_final_files 是需要处理的各领域的文件夹名称（不是所有文件夹都需要处理）\n",
    "    field_to_file_dict = {}\n",
    "    field_app_to_be_confirmed_file = open(field_app_to_be_confirmed_txt_path, 'w') # 不确定目标文件的条目\n",
    "\n",
    "    for final_file in YS_final_files:\n",
    "        if os.path.exists(os.path.join(YS_final_path, final_file)):\n",
    "            for file in listdir_nohidden(os.path.join(YS_final_path, final_file)):\n",
    "                if not file.endswith(\".xls\"):\n",
    "                    # xlsx/xls与csv文件内容相同，只需遍历其中一个，且还有zip文件等\n",
    "                    continue\n",
    "                # win linux 路径斜杠不兼容，用os.path.join，而不是写死左斜杠还是右斜杠\n",
    "                #temp_path = YS_final_path + '/'+ final_file +'/'+ file\n",
    "                temp_path = os.path.join(YS_final_path, final_file, file)\n",
    "                workbook = open_excel(temp_path)  # 打开工作簿\n",
    "                sheets = workbook.sheet_names()  # 获取工作簿中的所有表格\n",
    "                table = workbook.sheet_by_name(sheets[0])  # 获取工作簿中所有表格中的的第一个表格\n",
    "\n",
    "                # file为此文件名，需记录在file_to_field_dict中\n",
    "\n",
    "                field_index = getColumnIndex(table,index0)\n",
    "                app_index = getColumnIndex(table,index1)\n",
    "                # 部分文件的表头没有这两项\n",
    "                if field_index and app_index:\n",
    "                    field_list = table.col_values(field_index)\n",
    "                    app_list = table.col_values(app_index)\n",
    "                    # 得到这一文件中的所有“领域：应用”list（已去重，且若其中一项为空，则结果为None）\n",
    "                    field_app_list = list(set(list(map(lambda x:x[0]+':'+x[1] if x[0] and x[1] else None, zip(field_list, app_list)))))\n",
    "                    field_app_list.remove('领域名称:应用名称')\n",
    "                    # TODO field_to_file_dict，并去None，注意重复值的处理\n",
    "                    for field_app in field_app_list:\n",
    "                        if field_app is None:\n",
    "                            continue\n",
    "                        if field_app not in field_to_file_dict:\n",
    "                            field_to_file_dict[field_app] = temp_path\n",
    "                        else:\n",
    "                            # 若有重复，则删除，保证字典中的条目都是已确定的，不确定的条目在确认其所属文件后，直接加入txt\n",
    "                            del field_to_file_dict[field_app]\n",
    "                            field_app_to_be_confirmed_file.write(str(field_app)+'\\n')\n",
    "                else:\n",
    "                    # 打印没有这两个字段的文件名，需要手动处理\n",
    "                    logging.error('文件 %s 不存在 %s 和 %s 这两个字段', os.path.abspath(file), index0, index1)\n",
    "        else:\n",
    "            logging.error('路径 %s 不存在', os.path.join(YS_final_path, final_file))\n",
    "            print('dir '+ os.path.join(YS_final_path, final_file) + ' not exists')\n",
    "    field_app_to_be_confirmed_file.close()        \n",
    "    dict2txt(YS_dict_txt_path, field_to_file_dict)      \n",
    "    return field_to_file_dict"
   ]
  },
  {
   "cell_type": "code",
   "execution_count": null,
   "metadata": {},
   "outputs": [],
   "source": [
    "if __name__ == '__main__':\n",
    "    yaml_path = 'config.yaml'\n",
    "    read_config = YamlHandler(yaml_path).read_yaml()\n",
    "    excel_config = read_config['YS_final_excel']\n",
    "    YS_final_files = excel_config['YS_final_files']\n",
    "    YS_final_path = excel_config['YS_final_path']\n",
    "    YS_dict_txt_path = excel_config['YS_dict_txt_path']\n",
    "    field_app_to_be_confirmed_txt_path = excel_config['field_app_to_be_confirmed_txt_path']\n",
    "    index0 = excel_config['index0']\n",
    "    index1 = excel_config['index1']\n",
    "    \n",
    "    file_to_field_dict = get_YS_final_dict(YS_final_path, YS_final_files, YS_dict_txt_path, field_app_to_be_confirmed_txt_path, index0, index1)"
   ]
  }
 ],
 "metadata": {
  "kernelspec": {
   "display_name": "Python 3",
   "language": "python",
   "name": "python3"
  },
  "language_info": {
   "codemirror_mode": {
    "name": "ipython",
    "version": 3
   },
   "file_extension": ".py",
   "mimetype": "text/x-python",
   "name": "python",
   "nbconvert_exporter": "python",
   "pygments_lexer": "ipython3",
   "version": "3.6.12"
  }
 },
 "nbformat": 4,
 "nbformat_minor": 4
}
