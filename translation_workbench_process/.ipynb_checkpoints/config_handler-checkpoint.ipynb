{
 "cells": [
  {
   "cell_type": "code",
   "execution_count": 2,
   "metadata": {},
   "outputs": [],
   "source": [
    "import Ipynb_importer"
   ]
  },
  {
   "cell_type": "code",
   "execution_count": 4,
   "metadata": {},
   "outputs": [
    {
     "name": "stdout",
     "output_type": "stream",
     "text": [
      "{'YS_final_excel': {'index0': '领域名称', 'index1': '应用名称', 'head': ['产品线编码', '领域编码', '领域名称', '应用编码', '应用名称', '资源编码', '简体中文(源)', 'English(译)', '备注'], 'log_path': '.', 'pending_data_path': '..\\\\translation_workbench_data', 'backup_path': '\\\\\\\\172.20.56.15\\\\d\\\\YS-Final\\\\backup', 'YS_final_files': ['Collab-HR-SCM-Purchasing', 'Finance', 'Marketing', '数字化建模'], 'YS_final_path': '\\\\\\\\172.20.56.15\\\\d\\\\YS-Final', 'YS_dict_txt_path': '..\\\\translation_workbench_data\\\\YS_dict.txt', 'field_app_to_be_confirmed_txt_path': '..\\\\translation_workbench_data\\\\field_app_to_be_confirmed.txt'}, 'excel_style': {'head_font_name': 'SimSun', 'head_font_height': '20*11', 'head_font': '20*26', 'head_bold': True, 'head_pattern_fore_colour': 'gray25', 'set_panes_frozen': '1', 'set_horz_split_pos': 1, 'font_name': 'SimSun', 'font_height': '20 * 11', 'font_bold': False, 'alignment_wrap': 0, 'width': ['256*10', '256*10', '256*10', '256*10', '256*10', '256*26', '256*45', '256*65', '256*48'], 'height': '20*15'}, 'logging': {'version': 1, 'formatters': {'brief': {'format': '%(asctime)s - %(message)s'}, 'simple': {'format': '%(asctime)s - %(name)s - %(levelname)s - %(message)s'}}, 'handlers': {'console': {'class': 'logging.StreamHandler', 'formatter': 'brief', 'level': 'INFO', 'stream': 'ext://sys.stdout'}, 'file': {'class': 'logging.FileHandler', 'formatter': 'simple', 'level': 'DEBUG', 'filename': 'excel_append.log'}, 'error': {'class': 'logging.handlers.RotatingFileHandler', 'level': 'ERROR', 'formatter': 'simple', 'filename': 'error.log', 'maxBytes': 10485760, 'backupCount': 20, 'encoding': 'utf8'}}, 'loggers': {'main.core': {'level': 'DEBUG', 'handlers': ['console', 'file', 'error']}}, 'root': {'level': 'DEBUG', 'handlers': ['file']}}}\n"
     ]
    }
   ],
   "source": [
    "import yaml\n",
    "\n",
    "class YamlHandler:\n",
    "    def __init__(self,file):\n",
    "        self.file = file\n",
    "\n",
    "    def read_yaml(self,encoding='utf-8'):\n",
    "        \"\"\"\n",
    "        读取yaml数据\n",
    "        load：将yaml流转化为python字典\n",
    "        \"\"\"\n",
    "        with open(self.file, encoding=encoding) as f:\n",
    "            return yaml.load(f.read(), Loader=yaml.FullLoader)\n",
    "            \n",
    "    def write_yaml(self, data, encoding='utf-8'):\n",
    "        \"\"\"\n",
    "        向yaml文件写入数据\n",
    "        dump：将python对象转化为yaml流\n",
    "        \"\"\"\n",
    "        with open(self.file, encoding=encoding, mode='w') as f:\n",
    "            return yaml.dump(data, stream=f, allow_unicode=True)\n",
    "\n",
    "if __name__ == '__main__':\n",
    "    data = {\n",
    "        \"user\":{\n",
    "            \"username\": \"vivi\",\n",
    "            \"password\": \"123456\"\n",
    "        }\n",
    "    }\n",
    "    # 读取config.yaml配置文件数据\n",
    "    read_data = YamlHandler('config.yaml').read_yaml()\n",
    "    # 将data数据写入config1.yaml配置文件\n",
    "    # write_data = YamlHandler('../translation_workbench_data/config.yaml').write_yaml(data)\n",
    "    print(read_data)"
   ]
  },
  {
   "cell_type": "code",
   "execution_count": null,
   "metadata": {},
   "outputs": [],
   "source": []
  },
  {
   "cell_type": "code",
   "execution_count": null,
   "metadata": {},
   "outputs": [],
   "source": []
  }
 ],
 "metadata": {
  "kernelspec": {
   "display_name": "Python 3",
   "language": "python",
   "name": "python3"
  },
  "language_info": {
   "codemirror_mode": {
    "name": "ipython",
    "version": 3
   },
   "file_extension": ".py",
   "mimetype": "text/x-python",
   "name": "python",
   "nbconvert_exporter": "python",
   "pygments_lexer": "ipython3",
   "version": "3.6.12"
  }
 },
 "nbformat": 4,
 "nbformat_minor": 4
}
