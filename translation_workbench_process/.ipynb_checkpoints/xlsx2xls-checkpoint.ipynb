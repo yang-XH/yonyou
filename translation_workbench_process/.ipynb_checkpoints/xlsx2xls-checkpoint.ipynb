{
 "cells": [
  {
   "cell_type": "code",
   "execution_count": 2,
   "metadata": {},
   "outputs": [],
   "source": [
    "import Ipynb_importer"
   ]
  },
  {
   "cell_type": "code",
   "execution_count": 3,
   "metadata": {},
   "outputs": [
    {
     "name": "stdout",
     "output_type": "stream",
     "text": [
      "importing Jupyter notebook from utils.ipynb\n"
     ]
    }
   ],
   "source": [
    "from utils import *\n",
    "from config_handler import *\n",
    "from tqdm.auto import tqdm\n",
    "import os\n",
    "import xlrd"
   ]
  },
  {
   "cell_type": "code",
   "execution_count": 4,
   "metadata": {},
   "outputs": [],
   "source": [
    "def YS_final_xlsx2xls(YS_final_path, YS_final_files):\n",
    "    # YS_final_files 是需要处理的各领域的文件夹名称（不是所有文件夹都需要处理）\n",
    "    for final_file in tqdm(YS_final_files):\n",
    "        if os.path.exists(os.path.join(YS_final_path, final_file)):\n",
    "            for file in listdir_nohidden(os.path.join(YS_final_path, final_file)):\n",
    "                if file.endswith(\".xlsx\"):\n",
    "                    temp_path = os.path.join(YS_final_path, final_file, file)\n",
    "                    temp_path_xls = xlsx2xls(temp_path)\n",
    "                    workbook = xlrd.open_workbook(temp_path)  # 打开工作簿\n",
    "                    new_workbook = copy(workbook)  # 将xlrd对象拷贝转化为xlwt对象\n",
    "                    \n",
    "                    # os.path.basename 得到路径中的除去目录的基本文件名称\n",
    "                    # 保存为xls，防止WPS编辑过导致模板不对使得xlsx打不开的问题\n",
    "\n",
    "                    new_workbook.save(temp_path_xls) # 保存工作簿\n",
    "        else:\n",
    "            logging.error('路径 %s 不存在', os.path.join(YS_final_path, final_file))\n",
    "            print('dir '+ os.path.join(YS_final_path, final_file) + ' not exists')    \n",
    "    return "
   ]
  },
  {
   "cell_type": "code",
   "execution_count": null,
   "metadata": {},
   "outputs": [],
   "source": [
    "def remove_xlsx(YS_final_path, YS_final_files):\n",
    "    for final_file in YS_final_files:\n",
    "        if os.path.exists(os.path.join(YS_final_path, final_file)):\n",
    "            for file in listdir_nohidden(os.path.join(YS_final_path, final_file)):\n",
    "                if file.endswith(\".xlsx\"):\n",
    "                    file_xlsx_path = os.path.join(YS_final_path, final_file, file)\n",
    "                    file_xls = xlsx2xls(file_xlsx_path)\n",
    "                    # 若此文件的xls格式文件存在，则删除此xlsx\n",
    "                    if os.path.exists(file_xls):\n",
    "                        os.remove(file_xlsx_path)\n",
    "                    else:\n",
    "                        logging.info('%s 的xls格式文件不存在', file_xlsx_path)\n",
    "                        print('{} 的xls格式文件不存在'.format( file_xlsx_path))"
   ]
  },
  {
   "cell_type": "code",
   "execution_count": null,
   "metadata": {},
   "outputs": [],
   "source": [
    "if __name__ == '__main__':\n",
    "    yaml_path = 'config.yaml'\n",
    "    read_config = YamlHandler(yaml_path).read_yaml()\n",
    "    excel_config = read_config['YS_final_excel']\n",
    "    YS_final_files = excel_config['YS_final_files']\n",
    "    YS_final_path = excel_config['YS_final_path']\n",
    "    print('将xlsx转换为xls格式')\n",
    "    logging.info('将xlsx转换为xls格式')\n",
    "    YS_final_xlsx2xls(YS_final_path, YS_final_files)\n",
    "    logging.info('删除存在xls格式的xlsx文件')\n",
    "    print('删除存在xls格式的xlsx文件')\n",
    "    remove_xlsx(YS_final_path, YS_final_files)"
   ]
  },
  {
   "cell_type": "code",
   "execution_count": null,
   "metadata": {},
   "outputs": [],
   "source": []
  }
 ],
 "metadata": {
  "kernelspec": {
   "display_name": "Python 3",
   "language": "python",
   "name": "python3"
  },
  "language_info": {
   "codemirror_mode": {
    "name": "ipython",
    "version": 3
   },
   "file_extension": ".py",
   "mimetype": "text/x-python",
   "name": "python",
   "nbconvert_exporter": "python",
   "pygments_lexer": "ipython3",
   "version": "3.6.12"
  }
 },
 "nbformat": 4,
 "nbformat_minor": 4
}
