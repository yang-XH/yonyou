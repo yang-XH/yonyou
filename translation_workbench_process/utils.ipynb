{
 "cells": [
  {
   "cell_type": "code",
   "execution_count": 123,
   "metadata": {},
   "outputs": [],
   "source": [
    "import Ipynb_importer # 可直接import ipynb"
   ]
  },
  {
   "cell_type": "code",
   "execution_count": 124,
   "metadata": {},
   "outputs": [],
   "source": [
    "import logging\n",
    "import ntpath\n",
    "import os\n",
    "import time\n",
    "import xlrd # xlrd 版本1.2.0，高版本不能同时支持xlsx\n",
    "import xlwt\n",
    "from xlutils.copy import copy\n",
    "from config_handler import *\n",
    "from tqdm.auto import tqdm\n",
    "import yaml\n",
    "import logging.config\n",
    "import sys"
   ]
  },
  {
   "cell_type": "code",
   "execution_count": 7,
   "metadata": {},
   "outputs": [],
   "source": [
    "def getColumnIndex(table, columnName):\n",
    "    columnIndex = None  \n",
    "    for i in range(table.ncols):        \n",
    "        if(table.cell_value(0, i) == columnName):\n",
    "            columnIndex = i\n",
    "            break\n",
    "    return columnIndex"
   ]
  },
  {
   "cell_type": "code",
   "execution_count": 1,
   "metadata": {},
   "outputs": [],
   "source": [
    "# 忽略隐藏文件的listdir，因为如果excel文件正在被打开，则自动保存~$开头的临时文件\n",
    "def listdir_nohidden(path):\n",
    "    for f in os.listdir(path):\n",
    "        if not f.startswith('~$'):\n",
    "            yield f"
   ]
  },
  {
   "cell_type": "code",
   "execution_count": 13,
   "metadata": {},
   "outputs": [],
   "source": [
    "def xlsx2xls(file):\n",
    "    # win下路径的file\n",
    "    file_without_postfix = ntpath.splitext(file)[0]\n",
    "    file_xls = file_without_postfix + '.xls'\n",
    "    return file_xls"
   ]
  },
  {
   "cell_type": "code",
   "execution_count": 3,
   "metadata": {},
   "outputs": [],
   "source": [
    "#打开excel文件\n",
    "def open_excel(file):\n",
    "    try:\n",
    "        data = xlrd.open_workbook(file, formatting_info=True) # 保证copy时，未更改数据保持原有excel的格式,formatting_info仅对xls文件有效\n",
    "        return data\n",
    "    except Exception as e:\n",
    "        print(str(e))\n",
    "        logging.error('Error', exc_info=True)\n",
    "    return"
   ]
  },
  {
   "cell_type": "code",
   "execution_count": 4,
   "metadata": {},
   "outputs": [],
   "source": [
    "# 创建指定路径excel文件，指定格式\n",
    "def create_excel(file_path):\n",
    "    path_xls = xlsx2xls(file_path)\n",
    "    workbook = xlwt.Workbook(encoding='utf-8')       #新建工作簿\n",
    "    sheet1 = workbook.add_sheet(\"sheet1\")            #新建sheet\n",
    "    workbook.save(path_xls)                         #保存\n",
    "    return"
   ]
  },
  {
   "cell_type": "code",
   "execution_count": 5,
   "metadata": {},
   "outputs": [],
   "source": [
    "# 创建目录\n",
    "def mkdir(path):\n",
    "    # 去除首位空格\n",
    "    path=path.strip()\n",
    "    # 去除尾部 \\ 符号\n",
    "    path=path.rstrip(\"\\\\\")\n",
    "    # 判断路径是否存在\n",
    "    isExists=os.path.exists(path)\n",
    "    # 判断结果\n",
    "    if not isExists:\n",
    "        # 如果不存在则创建目录,创建目录操作函数\n",
    "        '''\n",
    "        os.mkdir(path)与os.makedirs(path)的区别是,当父目录不存在的时候os.mkdir(path)不会创建，os.makedirs(path)则会创建父目录\n",
    "        '''\n",
    "        #此处路径最好使用utf-8解码，否则在磁盘中可能会出现乱码的情况\n",
    "        #os.makedirs(path.decode('utf-8'))\n",
    "        os.makedirs(path)\n",
    "        print (path+' 创建成功')\n",
    "        logging.info('%s 创建成功', path)\n",
    "        return True\n",
    "    else:\n",
    "        # 如果目录存在则不创建，并提示目录已存在\n",
    "        print (path+' 目录已存在')\n",
    "        #logging.info('%s 目录已存在', path)\n",
    "        return False"
   ]
  },
  {
   "cell_type": "code",
   "execution_count": 6,
   "metadata": {},
   "outputs": [],
   "source": [
    "def excel_backup(file, backup_path, backup_file):\n",
    "    workbook = open_excel(file)  # 打开工作簿\n",
    "    new_workbook = copy(workbook)  # 将xlrd对象拷贝转化为xlwt对象\n",
    "    logging.info('#################################################################################################################')\n",
    "    # 创建文件夹，文件名应和原文件一样，而不是backup_file\n",
    "    mkdir(os.path.join(backup_path, backup_file))\n",
    "    # os.path.basename 得到路径中的除去目录的基本文件名称\n",
    "    # 保存为xls，防止WPS编辑过导致模板不对使得xlsx打不开的问题\n",
    "    basename = ntpath.basename(file)\n",
    "    path_xls = xlsx2xls(basename)\n",
    "    new_workbook.save(os.path.join(backup_path, backup_file, path_xls)) # 保存工作簿\n",
    "    logging.info('%s 备份数据成功', os.path.abspath(file))\n",
    "    print(os.path.abspath(file) + \" 备份数据成功！\\n\")\n",
    "    print('###########################################################################################################')"
   ]
  },
  {
   "cell_type": "code",
   "execution_count": 11,
   "metadata": {},
   "outputs": [],
   "source": [
    "def dict2txt(path,dict_temp):\n",
    "    # 先创建并打开一个文本文件\n",
    "    file = open(path, 'w', encoding='utf-8') # 指定编码格式，否则读取时中文乱码\n",
    "\n",
    "    # 遍历字典的元素，将每项元素的key和value分拆组成字符串，注意添加分隔符和换行符\n",
    "    file.write(\"\"\"# 第一次生成field2file字典时，使用get_YS_final_dict方法生成\\n# 之后使用txt2dict方法直接读取txt得到field2file字典\\n# 若对字典有增改，直接在txt末尾按格式加入新的key:value即可\\n\"\"\")\n",
    "    for k,v in dict_temp.items():\n",
    "        # 文件名中有空格，因此txt中用中文的冒号：，将field与file名隔开\n",
    "        file.write(str(k)+'：'+str(v)+'\\n')\n",
    "\n",
    "    # 注意关闭文件\n",
    "    file.close()"
   ]
  },
  {
   "cell_type": "code",
   "execution_count": 12,
   "metadata": {},
   "outputs": [],
   "source": [
    "def txt2dict(path):\n",
    "    # 声明一个空字典，来保存文本文件数据\n",
    "    dict_temp = {}\n",
    "\n",
    "    # 打开文本文件,encoding='utf-8'中文\n",
    "    file = open(path,'r',encoding='utf-8')\n",
    "\n",
    "    # 遍历文本文件的每一行，strip可以移除字符串头尾指定的字符（默认为空格或换行符）或字符序列\n",
    "    for line in file.readlines():\n",
    "        if not line.startswith('#'):\n",
    "            line = line.strip()\n",
    "            line = line.split('：')\n",
    "            k = line[0]\n",
    "            v = line[1]\n",
    "            dict_temp[k] = v\n",
    "\n",
    "    # 关闭文件\n",
    "    file.close()\n",
    "    return dict_temp"
   ]
  },
  {
   "cell_type": "code",
   "execution_count": 10,
   "metadata": {},
   "outputs": [],
   "source": [
    "def setup_logging(default_path='config.yaml', default_level=logging.INFO, log_file_name = 'excel_append.log'):\n",
    "    yaml_path = default_path\n",
    "    if os.path.exists(yaml_path):\n",
    "        read_config = YamlHandler(yaml_path).read_yaml()\n",
    "        logging_config = read_config['logging']\n",
    "        # 更改配置中file handlers中的log文件名信息，使之由时间信息命名\n",
    "        logging_config['handlers']['file']['filename'] = log_file_name\n",
    "        logging.config.dictConfig(logging_config)\n",
    "    else:\n",
    "        logging.basicConfig(level=default_level)"
   ]
  },
  {
   "cell_type": "code",
   "execution_count": 118,
   "metadata": {},
   "outputs": [],
   "source": [
    "# TODO :跑不通\n",
    "def config_generate(yaml_path):\n",
    "    read_config = YamlHandler(yaml_path).read_yaml()\n",
    "    excel_config = read_config['YS_final_excel']\n",
    "    excel_style_config = read_config['excel_style']\n",
    "    for key in excel_config:\n",
    "        #print(excel_config)\n",
    "        #print(type(key))\n",
    "        #print(excel_config[key])\n",
    "        #print(type(excel_config[key]))\n",
    "        print(key)\n",
    "        exec('{}=1'.format(key))"
   ]
  },
  {
   "cell_type": "code",
   "execution_count": null,
   "metadata": {},
   "outputs": [],
   "source": []
  }
 ],
 "metadata": {
  "kernelspec": {
   "display_name": "Python 3",
   "language": "python",
   "name": "python3"
  },
  "language_info": {
   "codemirror_mode": {
    "name": "ipython",
    "version": 3
   },
   "file_extension": ".py",
   "mimetype": "text/x-python",
   "name": "python",
   "nbconvert_exporter": "python",
   "pygments_lexer": "ipython3",
   "version": "3.6.12"
  }
 },
 "nbformat": 4,
 "nbformat_minor": 4
}
