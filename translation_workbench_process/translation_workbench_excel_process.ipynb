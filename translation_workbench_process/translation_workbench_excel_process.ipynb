{
 "cells": [
  {
   "cell_type": "markdown",
   "metadata": {},
   "source": [
    "1. 第一次操作时：\n",
    "    - 执行xlsx2xls.py\n",
    "        - YS_final_xlsx2xls函数将所有xlsx文件转换为xls格式（以使用formatting_info属性）\n",
    "        - remove_xlsx函数将存在xls格式的xlsx文件删除\n",
    "    - 执行excel_style_process.py，将所有xls文件的格式替换为指定格式\n",
    "\n",
    "2. 后续操作时：\n",
    "    - 执行translation_workbench_excel_process.py，直接按指定格式写入数据，且原数据格式不变\n",
    "        - 第一次获取file_to_field_dict时用get_YS_final_dict方法\n",
    "            - file_to_field_dict = get_YS_final_dict(YS_final_path, YS_final_files, YS_dict_txt_path, field_app_to_be_confirmed_txt_path, index0, index1)\n",
    "            - field_app_to_be_confirmed.txt中是有冲突的，待确认的应用领域、应用名称所属文件的数据，需手动添加至file_to_field_dict\n",
    "        - 程序默认通过读取YS_dict_txt_path获取file_to_field_dict"
   ]
  },
  {
   "cell_type": "code",
   "execution_count": 1,
   "metadata": {},
   "outputs": [
    {
     "name": "stdout",
     "output_type": "stream",
     "text": [
      "importing Jupyter notebook from excel_style_process.ipynb\n",
      "importing Jupyter notebook from utils.ipynb\n",
      "importing Jupyter notebook from config_handler.ipynb\n",
      "importing Jupyter notebook from xlsx2xls.ipynb\n"
     ]
    }
   ],
   "source": [
    "#!/usr/bin/python\n",
    "# -*- coding: UTF-8 -*-\n",
    "import time\n",
    "import xlrd # xlrd 版本1.2.0，高版本不能同时支持xlsx\n",
    "import xlwt\n",
    "from xlutils.copy import copy\n",
    "\n",
    "import os\n",
    "\n",
    "from tqdm.auto import tqdm\n",
    "import logging\n",
    "import yaml\n",
    "import logging.config\n",
    "\n",
    "import sys\n",
    "import Ipynb_importer # 可直接import ipynb\n",
    "\n",
    "import ntpath\n",
    "from excel_style_process import *\n",
    "from utils import *\n",
    "from xlsx2xls import *"
   ]
  },
  {
   "cell_type": "code",
   "execution_count": 2,
   "metadata": {},
   "outputs": [],
   "source": [
    "from config_handler import YamlHandler  # config_handler 是ipynb文件，需先导入Ipynb_importer解析"
   ]
  },
  {
   "cell_type": "code",
   "execution_count": 17,
   "metadata": {},
   "outputs": [
    {
     "data": {
      "text/plain": [
       "'\\n# 向已存在excel中写入多行数据\\ndef write_xls_append(path, value, style=xlwt.XFStyle()):\\n    path_xls = xlsx2xls(file_path)\\n    rows_append_num = len(value)  # 获取需要写入数据的行数\\n    workbook = open_excel(path)  # 打开工作簿\\n    sheets = workbook.sheet_names()  # 获取工作簿中的所有表格\\n    worksheet = workbook.sheet_by_name(sheets[0])  # 获取工作簿中所有表格中的的第一个表格\\n    rows_origin_num = worksheet.nrows  # 获取表格中已存在的数据的行数\\n    # xlrd的open函数的formatting_info=True只能保证未更改的数据保持原有的excel格式，更改的数据不可，需要用xlutils.XLWTWriter返回原excel的style信息\\n    new_workbook = copy(workbook)  # 将xlrd对象拷贝转化为xlwt对象\\n    new_worksheet = new_workbook.get_sheet(0)  # 获取转化后工作簿中的第一个表格\\n    logging.info(\\'#################################################################################################################\\')\\n    for i in tqdm(range(0, rows_append_num)):\\n        logging.info(value[i])\\n        for j in range(0, len(value[i])):\\n            new_worksheet.write(i+rows_origin_num, j, value[i][j], style)  # 追加写入数据，注意是从i+rows_old行开始写入，且是style格式\\n    new_workbook.save(path_xls)  # 保存工作簿\\n    print(os.path.abspath(path_xls) + \" 写入数据成功！\\n\")\\n    print(\\'###########################################################################################################\\')\\n    logging.info(\\'%s 写入数据成功\\', os.path.abspath(path_xls))\\n    logging.info(\\'#################################################################################################################\\')\\n    return\\n'"
      ]
     },
     "execution_count": 17,
     "metadata": {},
     "output_type": "execute_result"
    }
   ],
   "source": [
    "'''\n",
    "# 向已存在excel中写入多行数据\n",
    "def write_xls_append(path, value, style=xlwt.XFStyle()):\n",
    "    path_xls = xlsx2xls(file_path)\n",
    "    rows_append_num = len(value)  # 获取需要写入数据的行数\n",
    "    workbook = open_excel(path)  # 打开工作簿\n",
    "    sheets = workbook.sheet_names()  # 获取工作簿中的所有表格\n",
    "    worksheet = workbook.sheet_by_name(sheets[0])  # 获取工作簿中所有表格中的的第一个表格\n",
    "    rows_origin_num = worksheet.nrows  # 获取表格中已存在的数据的行数\n",
    "    # xlrd的open函数的formatting_info=True只能保证未更改的数据保持原有的excel格式，更改的数据不可，需要用xlutils.XLWTWriter返回原excel的style信息\n",
    "    new_workbook = copy(workbook)  # 将xlrd对象拷贝转化为xlwt对象\n",
    "    new_worksheet = new_workbook.get_sheet(0)  # 获取转化后工作簿中的第一个表格\n",
    "    logging.info('#################################################################################################################')\n",
    "    for i in tqdm(range(0, rows_append_num)):\n",
    "        logging.info(value[i])\n",
    "        for j in range(0, len(value[i])):\n",
    "            new_worksheet.write(i+rows_origin_num, j, value[i][j], style)  # 追加写入数据，注意是从i+rows_old行开始写入，且是style格式\n",
    "    new_workbook.save(path_xls)  # 保存工作簿\n",
    "    print(os.path.abspath(path_xls) + \" 写入数据成功！\\n\")\n",
    "    print('###########################################################################################################')\n",
    "    logging.info('%s 写入数据成功', os.path.abspath(path_xls))\n",
    "    logging.info('#################################################################################################################')\n",
    "    return\n",
    "'''"
   ]
  },
  {
   "cell_type": "code",
   "execution_count": 18,
   "metadata": {},
   "outputs": [],
   "source": [
    "# 备份数据，并将新ecxel数据分类并入已存在的ecxel文件中 by_index：表的索引\n",
    "def excel_append_process(file,file_temp,backup_path,backup_file , XlwtStyleWriter, head_style,data_style,by_index=0):\n",
    "    data = open_excel(file) #打开excel文件\n",
    "    print(data)\n",
    "    table = data.sheets()[by_index] #根据sheet序号来获取excel中的sheet\n",
    "    nrows = table.nrows #行数\n",
    "    ncols = table.ncols #列数 \n",
    "    data_list =[] #待确认数据的序列\n",
    "    target_file_data_dict = {} # 待加入对应文件的数据dict，key=文件名，value=待加入的数据\n",
    "    field_index = getColumnIndex(table,index0)\n",
    "    app_index = getColumnIndex(table,index1)\n",
    "    '''\n",
    "    field_index = file_to_field_colIndex_dict['file'].split(':')[0]\n",
    "    app_index = file_to_field_colIndex_dict['file'].split(':')[1]\n",
    "    '''\n",
    "    for rownum in range(1,nrows): #遍历每一行的内容\n",
    "\n",
    "        row = table.row_values(rownum) #根据行号获取行\n",
    "        if row: #如果行存在\n",
    "            field = table.cell_value(rownum, field_index)\n",
    "            app = table.cell_value(rownum, app_index)\n",
    "            field_app_index = field + ':' + app\n",
    "            if field_app_index in field_to_file_dict:\n",
    "                target_file = field_to_file_dict[field_app_index]\n",
    "                # target_file_name = target_file.split('.')[0] 不可以用这种简单的方式划分基本文件名称和其目录，因为其目录中可能包含172.等路径\n",
    "                # win下的路径操作，用ntpath，os.path在linux系统下运行时，相当于posixpath\n",
    "                # target_file_name = ntpath.basename(target_file)\n",
    "                '''\n",
    "                # 文件名中存在“-”、空格等，作为list名称进行赋值时，相当于运算符在等号左方，报错SyntaxError: can't assign to operator，将其去掉\n",
    "                #target_file_name = '_'.join(target_file_name.split('-'))\n",
    "                #target_file_name = '_'.join(target_file_name.split(' '))\n",
    "                # 文件名中有中文，无法直接作为list名称，改为将其存储为{字符串：[]}形式\n",
    "                # TODO 去重\n",
    "                if target_file_name+'_list' in globals():\n",
    "                    eval(target_file_name+'_list').append(row)\n",
    "                else:\n",
    "                    #动态变量名赋值\n",
    "                    exec('{}_list = []'.format(target_file_name))\n",
    "                    eval(target_file_name+'_list').append(row)\n",
    "                '''\n",
    "                if target_file in target_file_data_dict:\n",
    "                    target_file_data_dict[target_file].append(row)\n",
    "                else:\n",
    "                    target_file_data_dict[target_file] = [row]\n",
    "            # 领域名称、应用名称为空，或者是新的待确认的规则，放入新的excel表格中\n",
    "            else:\n",
    "                 data_list.append(row)\n",
    "    if data_list:\n",
    "        # 若存在待处理数据，写入表头\n",
    "        #data_list.insert(0,table.row_values(0))\n",
    "        #head = table.row_values(0)\n",
    "        # 创建file_temp文件\n",
    "        create_excel(file_temp)\n",
    "        a.write_xls_append(file_temp, [XlwtStyleWriter.headings], head_style, set_panes_frozen=True)\n",
    "        a.write_xls_append(file_temp, data_list, data_style)\n",
    "        logging.info('#################################################################################################################')\n",
    "        print('有数据待处理，文件位于:{}'.format(os.path.abspath(file_temp)))\n",
    "        logging.info('文件: %s 中有数据待处理', os.path.abspath(file_temp))\n",
    "    for file in target_file_data_dict:\n",
    "        # 备份需要更改的文件\n",
    "        excel_backup(file, backup_path, backup_file)\n",
    "        a.write_xls_append(file, target_file_data_dict[file], data_style)     \n",
    "    \n",
    "    return "
   ]
  },
  {
   "cell_type": "code",
   "execution_count": null,
   "metadata": {},
   "outputs": [],
   "source": [
    "a = ['1','2']"
   ]
  },
  {
   "cell_type": "code",
   "execution_count": null,
   "metadata": {},
   "outputs": [],
   "source": [
    "list(a)"
   ]
  },
  {
   "cell_type": "code",
   "execution_count": 19,
   "metadata": {},
   "outputs": [],
   "source": [
    "def get_file_temp_name(file_path, pending_data_path):\n",
    "    '''\n",
    "    # 待处理数据的文件路径不应与正式数据的路径相同\n",
    "    path_list = file_path.split('/')[:-1]\n",
    "    path = '/'.join(path_list)\n",
    "    '''\n",
    "    basename = ntpath.basename(file)\n",
    "    basename_xls = xlsx2xls(basename)\n",
    "    return os.path.join(pending_data_path, '待处理数据__in__'+ basename_xls)"
   ]
  },
  {
   "cell_type": "code",
   "execution_count": null,
   "metadata": {},
   "outputs": [],
   "source": [
    "if __name__ == '__main__':\n",
    "    yaml_path = 'config.yaml'\n",
    "    read_config = YamlHandler(yaml_path).read_yaml()\n",
    "    excel_config = read_config['YS_final_excel']\n",
    "    excel_style_config = read_config['excel_style']\n",
    "    # TODO 控制台输入待处理文件路径\n",
    "    #file: ../translation_workbench_data/未翻译内容1201+to+trans.xlsx\n",
    "    '''\n",
    "    控制台输入\n",
    "    Python3.x 中 raw_input( ) 和 input( ) 进行了整合，去除了 raw_input( )，仅保留了 input( ) 函数，\n",
    "    其接收任意任性输入，将所有输入默认为字符串处理，并返回字符串类型。\n",
    "    '''\n",
    "    file = input('请输入待处理excel文件的路径：')\n",
    "     # 读取yaml配置文件，变量名称与配置文件中变量名称相同\n",
    "    #config_generate()\n",
    "    index0 = excel_config['index0']\n",
    "    index1 = excel_config['index1']\n",
    "\n",
    "    log_path = excel_config['log_path'] # log文件的路径（与需增添数据的文件路径不同）   \n",
    "    pending_data_path = excel_config['pending_data_path'] # 待处理数据的文件路径\n",
    "    backup_path = excel_config['backup_path']\n",
    "    YS_final_files = excel_config['YS_final_files']\n",
    "    YS_final_path = excel_config['YS_final_path']\n",
    "    YS_dict_txt_path = excel_config['YS_dict_txt_path']\n",
    "    field_app_to_be_confirmed_txt_path = excel_config['field_app_to_be_confirmed_txt_path']\n",
    "\n",
    "    current_time = time.strftime('%Y%m%d%H%M', time.localtime(time.time()))\n",
    "    log_name = os.path.join(log_path, \"excel_append_\"+current_time+\".log\" )  #日志文件路径\n",
    "    setup_logging(yaml_path, log_file_name=log_name)\n",
    "    file_temp = get_file_temp_name(file, pending_data_path)\n",
    "    backup_file = current_time + 'backup'\n",
    "    \n",
    "    field_to_file_dict = txt2dict(YS_dict_txt_path)\n",
    "    \n",
    "    head_height = eval(excel_style_config['head_height']) # yaml文件中读出的 20*26 是 str类型，需要转换\n",
    "    height = eval(excel_style_config['height'])\n",
    "    width = [eval(x) for x in excel_style_config['width']]\n",
    "    head_style_dict = excel_style_config['head_style']\n",
    "    data_style_dict = excel_style_config['other_style']\n",
    "    headings = excel_config['headings']\n",
    "\n",
    "    a = XlwtStyleWriter()\n",
    "    a.height = height\n",
    "    a.hheight = head_height\n",
    "    a.headings = headings\n",
    "    a.width = width\n",
    "    head_style =  XlwtStyleWriter._convert_to_style(head_style_dict)\n",
    "    data_style = XlwtStyleWriter._convert_to_style(data_style_dict)\n",
    " \n",
    "    #field_to_file_dict = {'人力资源:绩效管理前端':'../translation_workbench_data/test1.xls'} # './translation_workbench_data/test.xlsx'\n",
    "    print('本次处理的文件为: {}\\n'.format(os.path.abspath(file)))\n",
    "    print('若存在处理不成功的数据，数据写入: {}\\n'.format(os.path.abspath(file_temp)))\n",
    "    \n",
    "    excel_append_process(file,file_temp,backup_path , backup_file, a, head_style, data_style, by_index=0)\n",
    "    "
   ]
  },
  {
   "cell_type": "code",
   "execution_count": null,
   "metadata": {},
   "outputs": [],
   "source": []
  }
 ],
 "metadata": {
  "kernelspec": {
   "display_name": "Python 3",
   "language": "python",
   "name": "python3"
  },
  "language_info": {
   "codemirror_mode": {
    "name": "ipython",
    "version": 3
   },
   "file_extension": ".py",
   "mimetype": "text/x-python",
   "name": "python",
   "nbconvert_exporter": "python",
   "pygments_lexer": "ipython3",
   "version": "3.6.12"
  }
 },
 "nbformat": 4,
 "nbformat_minor": 4
}
